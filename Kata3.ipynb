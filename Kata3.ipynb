{
 "cells": [
  {
   "cell_type": "markdown",
   "metadata": {},
   "source": [
    "# Kata 3"
   ]
  },
  {
   "cell_type": "code",
   "execution_count": 2,
   "metadata": {},
   "outputs": [
    {
     "name": "stdout",
     "output_type": "stream",
     "text": [
      "55\n"
     ]
    }
   ],
   "source": [
    "# Tip de práctica 1: Intenta ejecutarlo en un notebook.\n",
    "a = 97\n",
    "b = 55\n",
    "# test expression / expresión de prueba\n",
    "if a >= b:\n",
    "    # statement to be run / instrucción a ejecutar\n",
    "    print(b)"
   ]
  },
  {
   "cell_type": "markdown",
   "metadata": {},
   "source": [
    "# Advertencia de Asteroide"
   ]
  },
  {
   "cell_type": "code",
   "execution_count": 5,
   "metadata": {},
   "outputs": [
    {
     "name": "stdout",
     "output_type": "stream",
     "text": [
      "¡Advertencia se acerca un Asteroide a 49 KM!\n"
     ]
    }
   ],
   "source": [
    "velocidadAsteroide = 49\n",
    "if velocidadAsteroide >= 25:\n",
    "    print('¡Advertencia se acerca un Asteroide a '+ str(velocidadAsteroide) + ' KM!')\n",
    "else: \n",
    "    print('No hay peligro')\n"
   ]
  },
  {
   "cell_type": "markdown",
   "metadata": {},
   "source": [
    "#Avistamiento de Asteroide"
   ]
  },
  {
   "cell_type": "code",
   "execution_count": 6,
   "metadata": {},
   "outputs": [
    {
     "name": "stdout",
     "output_type": "stream",
     "text": [
      "No hay ningun Asteroide que ver\n"
     ]
    }
   ],
   "source": [
    "velocidadAsteroide = 19\n",
    "if velocidadAsteroide > 20:\n",
    "    print('¡Mira hacia arriba!, Un Asteroide se dirige a la tierra.')\n",
    "elif velocidadAsteroide == 20:\n",
    "    print('¡Mira hacia arriba!, Un Asteroide se dirige a la tierra.')\n",
    "else: print('No hay ningun Asteroide que ver')    "
   ]
  },
  {
   "cell_type": "markdown",
   "metadata": {},
   "source": [
    "#Tercer Ejercicio"
   ]
  },
  {
   "cell_type": "code",
   "execution_count": 9,
   "metadata": {},
   "outputs": [
    {
     "name": "stdout",
     "output_type": "stream",
     "text": [
      "¡Mira hacia arriba! ¡Hay una luz de Asteroide en el cielo!\n"
     ]
    }
   ],
   "source": [
    "velocidadAsteroide = 25\n",
    "tamanoAsteroide = 40\n",
    "if velocidadAsteroide > 25 and tamanoAsteroide > 25:\n",
    "    print('¡Alerta, Un asteroide muy peligroso se dirige a la Tierra!')\n",
    "elif velocidadAsteroide >= 20:\n",
    "    print('¡Mira hacia arriba! ¡Hay una luz de Asteroide en el cielo!')\n",
    "elif tamanoAsteroide < 25:\n",
    "    print('No hay ningun peligro')\n",
    "else:\n",
    "    print('No hay ningun peligro')"
   ]
  }
 ],
 "metadata": {
  "interpreter": {
   "hash": "8365684e25f111e6fd3da1df10d33e7c395dfaff5c4e5a4a0431ac045648b199"
  },
  "kernelspec": {
   "display_name": "Python 3.10.2 64-bit (windows store)",
   "language": "python",
   "name": "python3"
  },
  "language_info": {
   "codemirror_mode": {
    "name": "ipython",
    "version": 3
   },
   "file_extension": ".py",
   "mimetype": "text/x-python",
   "name": "python",
   "nbconvert_exporter": "python",
   "pygments_lexer": "ipython3",
   "version": "3.10.2"
  },
  "orig_nbformat": 4
 },
 "nbformat": 4,
 "nbformat_minor": 2
}
